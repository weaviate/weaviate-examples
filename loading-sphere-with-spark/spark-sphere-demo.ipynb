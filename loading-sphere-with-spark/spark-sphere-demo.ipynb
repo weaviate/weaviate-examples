{
 "cells": [
  {
   "cell_type": "markdown",
   "id": "3b4ecee1",
   "metadata": {},
   "source": [
    "# Loading Sphere data into Weaviate using Spark\n",
    "\n",
    "This notebook demonstrates using [Apache Spark](https://spark.apache.org/) to load a subset of Facebook's [Sphere](https://ai.facebook.com/blog/introducing-sphere-meta-ais-web-scale-corpus-for-better-knowledge-intensive-nlp/) dataset into Weaviate."
   ]
  },
  {
   "cell_type": "markdown",
   "id": "c5f15a3e",
   "metadata": {},
   "source": [
    "### Installation\n",
    "\n",
    "For this example we will just run Spark locally and install via the python `pyspark` package.\n",
    "\n",
    "For demonstration purposes this notebook runs Spark locally. Please the the [Apache Spark docs](https://spark.apache.org/docs/latest/) or consult your cloud environment for installation and deploying a Spark cluster and choosing a language runtime other than python.\n",
    "\n",
    "We have two spark libraries/jars as dependencies which we will install separately, the [Google Cloud Storage connector](https://cloud.google.com/dataproc/docs/tutorials/gcs-connector-spark-tutorial) and the [Weaviate Spark sonnector](https://github.com/semi-technologies/weaviate-spark-connector)."
   ]
  },
  {
   "cell_type": "code",
   "execution_count": null,
   "id": "c82bf94d",
   "metadata": {},
   "outputs": [],
   "source": [
    "!pip3 install pyspark weaviate-client\n",
    "!wget https://storage.googleapis.com/hadoop-lib/gcs/gcs-connector-hadoop3-latest.jar\n",
    "!wget https://github.com/semi-technologies/weaviate-spark-connector/releases/download/v0.1.2/weaviate-spark-connector-assembly-v0.1.2.jar"
   ]
  },
  {
   "cell_type": "markdown",
   "id": "32812074",
   "metadata": {},
   "source": [
    "### Initializing a Spark Session\n",
    "\n",
    "The below code will create a Spark Session with libraries mentioned above.\n",
    "\n",
    "You will need a GCP service account to read from Google Cloud Storage. Please see the [following docs on how to create a service account](https://cloud.google.com/dataproc/docs/tutorials/gcs-connector-spark-tutorial)."
   ]
  },
  {
   "cell_type": "code",
   "execution_count": null,
   "id": "301dab35",
   "metadata": {},
   "outputs": [],
   "source": [
    "from pyspark.sql import SparkSession\n",
    "import os\n",
    "\n",
    "os.environ[\"GOOGLE_APPLICATION_CREDENTIALS\"] = os.path.join(\n",
    "    os.environ[\"HOME\"], \".gcp.json\"\n",
    ")\n",
    "\n",
    "spark = (\n",
    "    SparkSession.builder.config(\n",
    "        \"spark.jars\",\n",
    "        \"gcs-connector-hadoop3-latest.jar,weaviate-spark-connector-assembly-v0.1.2.jar\",\n",
    "    )\n",
    "    .master(\"local[*]\")\n",
    "    .appName(\"weaviate\")\n",
    "    .getOrCreate()\n",
    ")\n",
    "\n",
    "spark._jsc.hadoopConfiguration().set(\"fs.gs.impl\", \"com.google.cloud.hadoop.fs.gcs.GoogleHadoopFileSystem\")\n",
    "spark._jsc.hadoopConfiguration().set(\"fs.gs.auth.service.account.enable\", \"true\")\n",
    "spark.sparkContext.setLogLevel(\"WARN\")"
   ]
  },
  {
   "cell_type": "markdown",
   "id": "0d04ab20",
   "metadata": {},
   "source": [
    "You should now have a Spark Session created and be able to view the [Spark UI](http://localhost:4040)."
   ]
  },
  {
   "cell_type": "code",
   "execution_count": 2,
   "id": "7d90c210",
   "metadata": {},
   "outputs": [
    {
     "data": {
      "text/html": [
       "\n",
       "            <div>\n",
       "                <p><b>SparkSession - in-memory</b></p>\n",
       "                \n",
       "        <div>\n",
       "            <p><b>SparkContext</b></p>\n",
       "\n",
       "            <p><a href=\"http://192.168.1.83:4040\">Spark UI</a></p>\n",
       "\n",
       "            <dl>\n",
       "              <dt>Version</dt>\n",
       "                <dd><code>v3.3.1</code></dd>\n",
       "              <dt>Master</dt>\n",
       "                <dd><code>local[*]</code></dd>\n",
       "              <dt>AppName</dt>\n",
       "                <dd><code>weaviate</code></dd>\n",
       "            </dl>\n",
       "        </div>\n",
       "        \n",
       "            </div>\n",
       "        "
      ],
      "text/plain": [
       "<pyspark.sql.session.SparkSession at 0x120f4b040>"
      ]
     },
     "execution_count": 2,
     "metadata": {},
     "output_type": "execute_result"
    }
   ],
   "source": [
    "spark"
   ]
  },
  {
   "cell_type": "markdown",
   "id": "02f7e2f8",
   "metadata": {},
   "source": [
    "### Reading Sphere from GCS\n",
    "\n",
    "Here we will read a 1M subset of sphere from GCS."
   ]
  },
  {
   "cell_type": "code",
   "execution_count": null,
   "id": "8b71ebb0",
   "metadata": {},
   "outputs": [],
   "source": [
    "df = spark.read.parquet(\"gs://sphere-demo/parquet/sphere.1M.parquet\")"
   ]
  },
  {
   "cell_type": "markdown",
   "id": "a19e4c00",
   "metadata": {},
   "source": [
    "We can take a look at the first few records"
   ]
  },
  {
   "cell_type": "code",
   "execution_count": null,
   "id": "5345092d",
   "metadata": {},
   "outputs": [],
   "source": [
    "df.limit(3).toPandas().head()"
   ]
  },
  {
   "cell_type": "markdown",
   "id": "0cd6e451",
   "metadata": {},
   "source": [
    "## Writing to Weaviate\n",
    "\n",
    "The Weaviate Spark connector assumed that a [schema](https://weaviate.io/developers/weaviate/current/schema/index.html) has already been created. For this reason we will use the Python client to create the schema."
   ]
  },
  {
   "cell_type": "code",
   "execution_count": 7,
   "id": "76a84f6f",
   "metadata": {},
   "outputs": [],
   "source": [
    "import weaviate\n",
    "\n",
    "client = weaviate.Client(\"http://localhost:8080\")\n",
    "\n",
    "client.schema.create_class(\n",
    "    {\n",
    "        \"class\": \"Sphere\",\n",
    "        \"properties\": [\n",
    "            {\"name\": \"raw\", \"dataType\": [\"string\"]},\n",
    "            {\"name\": \"sha\", \"dataType\": [\"string\"]},\n",
    "            {\"name\": \"title\", \"dataType\": [\"string\"]},\n",
    "            {\"name\": \"url\", \"dataType\": [\"string\"]},\n",
    "        ],\n",
    "    }\n",
    ")"
   ]
  },
  {
   "cell_type": "markdown",
   "id": "a8bbced8",
   "metadata": {},
   "source": [
    "Next we will write the Spark dataframe to Weaviate. Note the `limit(100)` can be removed to load the full dataset."
   ]
  },
  {
   "cell_type": "code",
   "execution_count": null,
   "id": "3865f575",
   "metadata": {},
   "outputs": [],
   "source": [
    "df.limit(100).withColumnRenamed(\"id\", \"uuid\").write.format(\"io.weaviate.spark.Weaviate\") \\\n",
    "    .option(\"batchSize\", 200) \\\n",
    "    .option(\"scheme\", \"http\") \\\n",
    "    .option(\"host\", \"localhost:8080\") \\\n",
    "    .option(\"id\", \"uuid\") \\\n",
    "    .option(\"className\", \"Sphere\") \\\n",
    "    .option(\"vector\", \"vector\") \\\n",
    "    .mode(\"append\").save()"
   ]
  },
  {
   "cell_type": "markdown",
   "id": "fe5115a1",
   "metadata": {},
   "source": [
    "Querying via the python client we can see the data has been loaded. Note this data is sourced from [Common Crawl](https://commoncrawl.org/) and so contains raw webcrawl data."
   ]
  },
  {
   "cell_type": "code",
   "execution_count": 9,
   "id": "5f5234f3",
   "metadata": {},
   "outputs": [
    {
     "data": {
      "text/plain": [
       "{'data': {'Get': {'Sphere': [{'url': 'https://htdb.space/1909/r4526b.htm'},\n",
       "    {'url': 'https://rootsofjusticetraining.org/2014/08/when-there-is-no-peace-where-are-the-saints/'},\n",
       "    {'url': 'https://www.financialexpress.com/india-news/bawana-fire-congress-demands-judicial-probe-into-delhi-factory-blaze/1024238/'},\n",
       "    {'url': 'http://teachersjourneytolife.com/tag/learning/page/2/'},\n",
       "    {'url': 'https://www.deadseamoringa.com/keep-your-skin-looking-young-throughout-the-aging-process/'},\n",
       "    {'url': 'https://www.rawstory.com/2019/03/gops-aggression-backfire-2020-democrats-consider-expanding-supreme-court/'},\n",
       "    {'url': 'https://civilwar.mrdonn.org/missouri-compromise.html'},\n",
       "    {'url': 'https://www.elixirofknowledge.com/2016/06/sacred-destination-hagia-sophia.html'},\n",
       "    {'url': 'https://women2.com/2015/09/10/20150910tech-unicorn-culture-insights/'},\n",
       "    {'url': 'https://www.adn.com/politics/article/report-ted-stevens-trial-suggests-suspensions-two-alaska-based-prosecutors/2012/05/25/'},\n",
       "    {'url': 'https://www.eklwilliams.com/About/Patrick-L-Provenzale.shtml'},\n",
       "    {'url': 'http://en.animalprograms.org/150925.html'},\n",
       "    {'url': 'https://www.sanantoniomag.com/January-2019/Dr-Charles-Hankins-and-Cris-Daskevich/'},\n",
       "    {'url': 'https://www.amoils.com/health-blog/category/diseases/page/2/'},\n",
       "    {'url': 'http://contemptor.com/2017/01/11/watch-al-franken-delivers-passionate-defense-of-immigrants-and-refugees/'},\n",
       "    {'url': 'http://www.shanghairanking.com/de/World-University-Rankings/University-of-Haifa.html'},\n",
       "    {'url': 'https://kddfonline.com/2018/02/15/khurda-road-balangir-rail-line-project-gets-rs-625-crore-allocation/'},\n",
       "    {'url': 'https://www.iva-advice.org.uk/about-ivas/'},\n",
       "    {'url': 'http://be.napster.com/artist/linkin-park/album/living-things'},\n",
       "    {'url': 'https://www.ircwebservices.com/opera-completely-redesigns-its-desktop-browser/'},\n",
       "    {'url': 'https://www.lisz-works.com/entry/flutter-doctor-warn-android-toolchain'},\n",
       "    {'url': 'https://saalawoffice.com/tag/wrongful-termination/'},\n",
       "    {'url': 'https://www.scottmackenzie.com/personal-injury/car-accidents/'},\n",
       "    {'url': 'https://patriotpost.us/articles/31089-obamas-executive-amnesty-deception'},\n",
       "    {'url': 'https://digital.hbs.edu/platform-sustainablecities/terms-and-conditions-privacy-policy/'},\n",
       "    {'url': 'https://solutioproblematisomnes.wordpress.com/tag/blessed-virgin-mary/'},\n",
       "    {'url': 'http://abouttomock.blogspot.com/2013/01/'},\n",
       "    {'url': 'http://www.getfilings.com/sec-filings/150506/SilverSun-Technologies-Inc_10-Q/'},\n",
       "    {'url': 'https://ryangeorgefitness.com/2009/02/11/strategies-for-maintaining-healthy-eating-habits-part-1-of-2/?shared=email&msg=fail'},\n",
       "    {'url': 'https://bengreenfieldfitness.com/transcripts/full-transcript-399/'},\n",
       "    {'url': 'https://www.rollingstone.com/music/music-news/justice-dept-defends-1-92-million-riaa-fine-against-minnesota-mom-246120/'},\n",
       "    {'url': 'http://theroyfamily.com/ahnentafel.php?personID=i850&tree=RoyFamily&parentset=0&generations=4'},\n",
       "    {'url': 'http://www.sacred-espanol.com/home_schooling_tips_for_young_children_393437a.html'},\n",
       "    {'url': 'https://catholicdialogue.com/2013/10/11/clerical-bullies-what-to-do/'},\n",
       "    {'url': 'https://investor.endocyte.com/node/10881/html'},\n",
       "    {'url': 'https://www.huntingpacksreview.com/hunting-gears/page/2/'},\n",
       "    {'url': 'http://fatherhollywood.blogspot.com/2010/01/'},\n",
       "    {'url': 'https://www.pwpodcasts.com/2017/09/03/everybodys-talking-best-week-pro-wrestling-podcasts-austins-advice-aspiring-wrestler-pwi-500-ranking-must-listen-week/'},\n",
       "    {'url': 'https://leoadambiga.com/2014/02/06/color-blind-love-five-interracial-couples-share-their-stories/'},\n",
       "    {'url': 'https://uscode.house.gov/view.xhtml?req=granuleid%3AUSC-prelim-title7-chapter35&saved=%7CZ3JhbnVsZWlkOlVTQy1wcmVsaW0tdGl0bGU3LXNlY3Rpb24xMzA4LTM%3D%7C%7C%7C0%7Cfalse%7Cprelim&edition=prelim'},\n",
       "    {'url': 'https://buddhism-controversy-blog.com/2013/03/10/why-the-dalai-lama-cannot-condemn-tibetan-self-immolations-2/'},\n",
       "    {'url': 'http://www.chipfm.com/We-will-do-everything-in-our-power-to-ensure-acceptable-and-manageable-water'},\n",
       "    {'url': 'http://www.abqbeergeek.com/2009/01/cardinals-fans-are-weaker-than-coors.html'},\n",
       "    {'url': 'https://www.sliceofscifi.com/2014/03/10/bbc-america-the-real-history-of-science-fiction/'},\n",
       "    {'url': 'https://blog.toppanmerrill.com/blog/rise-of-esg-investing-and-impacts-on-long-term-ism'},\n",
       "    {'url': 'http://www.technews.buymoneyniches.com/new-u-m-center-will-promote-social-media-responsibility-tackle-fake-news/'},\n",
       "    {'url': 'https://www.wikidoc.org/index.php/Leptin'},\n",
       "    {'url': 'https://www.twincities.com/2014/10/30/theyre-called-multiple-threat-crashes-now-how-do-we-prevent-them/'},\n",
       "    {'url': 'https://www.si.com/vault/1987/02/09/114815/bittersweet-memories-of-my-father-the-gambler'},\n",
       "    {'url': 'https://maxpawnlv.com/maxpawn/sell-your-luxury-items/'},\n",
       "    {'url': 'https://dic.academic.ru/dic.nsf/building_en_ru/1030'},\n",
       "    {'url': 'http://dissectleft.blogspot.com/2010_04_04_archive.html'},\n",
       "    {'url': 'https://www.murray.senate.gov/public/index.cfm/lowbandwidth/newsreleases?ID=FBC7A8A0-5DE5-4405-B827-E699FB8ECF25'},\n",
       "    {'url': 'https://invest-novokubansk.ru/en/news/industrial-enterprises-of-kuban-transferred-over-8-3-billion-rubles-in-taxes-into-the-regional-treas/'},\n",
       "    {'url': 'https://www.ola.org/en/legislative-business/house-documents/parliament-41/session-1/2015-12-10/hansard'},\n",
       "    {'url': 'https://www.elisoriano.com/big-bang-theory-creation-believe/'},\n",
       "    {'url': 'https://www.rogerscup.com/on-site-experience/407etr-free-community-weekend/'},\n",
       "    {'url': 'http://www.eventscotland.org/news/2013/4/scotland-to-face-jamaica-in-group-stage-of-2013-world-youth-netball-championships/'},\n",
       "    {'url': 'https://ecommons.aku.edu/pakistan_fhs_mc_med_gastroenterol/259/'},\n",
       "    {'url': 'https://blogs.staffs.ac.uk/archaeology/projects/searching-for-shakespeare/'},\n",
       "    {'url': 'https://www.earlymusicamerica.org/emag-feature-article/musical-miracles/'},\n",
       "    {'url': 'https://old.igennus.com/nutrition-blog/dietary-foundations-for-auto-immune-disease/'},\n",
       "    {'url': 'http://www.llmc.com/fiche/historical_NatAmer.aspx'},\n",
       "    {'url': 'http://banyantree.us/retireSmarter/?p=20'},\n",
       "    {'url': 'http://www.uwindsor.ca/dailynews/education/2014-03-13/clinic-provide-free-legal-services-start-businesses'},\n",
       "    {'url': 'http://035546f.netsolhost.com/theparallax/2012/02/10/leadership-love-and-change-a-valentines-day-message/'},\n",
       "    {'url': 'https://www.rotoballer.com/player-news/ken-giles-picks-up-14th-save-on-saturday/651848?src=sidebar'},\n",
       "    {'url': 'http://scores.seattlepi.com/nhl/playerstats.asp?id=5281&team='},\n",
       "    {'url': 'https://digitalskillspartnership.scot/recruiting-talent/'},\n",
       "    {'url': 'https://ernawrites.com/2017/05/13/swing-time-book-review/'},\n",
       "    {'url': 'https://www.vdwaay.nl/en/project/14/french-grower-keeps-greenhouse-cover-clean-with-top-cleaner'},\n",
       "    {'url': 'https://memory-alpha.fandom.com/wiki/V%27ger'},\n",
       "    {'url': 'https://www.khe.com.au/sales_discs/advanced.asp?MT=cdg&SAS=SA&SearchThis=Annie'},\n",
       "    {'url': 'https://www.maxim.com/entertainment/tony-hale-talks-veep-arrested-development-more'},\n",
       "    {'url': 'https://novapublishers.com/shop/olive-oil-global-commerce-competition-and-consumption/'},\n",
       "    {'url': 'https://dailytimes.com/promotions/article_b3252fe2-acff-11e9-9114-8b00255a334e.html'},\n",
       "    {'url': 'https://money.cnn.com/2014/06/26/luxury/vacation-like-royalty/index.html'},\n",
       "    {'url': 'https://www.cnet.com/videos/the-cravecast-boldly-chats-about-50-years-of-star-trek-ep-27/'},\n",
       "    {'url': 'https://www.webmd.com/cold-and-flu/news/20080117/fda-no-cough-cold-drugs-for-tots?ecd=wnl_nal_011708'},\n",
       "    {'url': 'https://www.agencyleadership.com/alp-22-how-to-fire-agency-employees/'},\n",
       "    {'url': 'http://www.rosalindaroman.com/2013/04/paella-as-portal.html'},\n",
       "    {'url': 'https://www.taxreformandtransition.com/2017/11/more-on-the-senate-marks-real-estate-related-proposals/'},\n",
       "    {'url': 'http://kenlevine.blogspot.com/2016/08/the-beat-goes-back-on.html?showComment=1470837712989'},\n",
       "    {'url': 'https://asktheatheist.com/?p=1655&amp;share=facebook'},\n",
       "    {'url': 'http://www.politicalirony.com/2014/02/09/is-poverty-a-feature-or-a-bug/'},\n",
       "    {'url': 'https://www.channel4.com/news/anti-austerity-march-on-london'},\n",
       "    {'url': 'http://gutenberg.us/articles/eng/Palace_of_Versailles'},\n",
       "    {'url': 'http://www.morrisflipsenglish.com/blog-ion-lucidity/homework-in-a-culture-of-fear'},\n",
       "    {'url': 'http://www.rent-a-page.com/akron/ohio/mortgage-refinance/57329.php'},\n",
       "    {'url': 'https://www.duffyarchive.com/portfolio/'},\n",
       "    {'url': 'http://faithtabernacle.org.ng/christianfamily/a-prudent-family-life-4/'},\n",
       "    {'url': 'https://www.totalsuccess.co.uk/recognising-and-combating-stress/'},\n",
       "    {'url': 'https://www.nonprofitpro.com/post/five-myths-evergreen-philanthropy-part-3/'},\n",
       "    {'url': 'https://www.rockfish-river.com/en/news/news-2011-archiv.html'},\n",
       "    {'url': 'http://www.currentaffairsindia.info/2011/11/british-east-india-company-rule-in.html'},\n",
       "    {'url': 'https://pioneerproductions.blogspot.com/2013/09/'},\n",
       "    {'url': 'http://infosecisland.com/blogview/25095-Most-SMBs-Not-Equipped-to-Handle-Security-Concerns-Study.html'},\n",
       "    {'url': 'http://tossingitout.blogspot.com/2017/10/'},\n",
       "    {'url': 'https://www.thesportster.com/news/matches-advertised-for-extreme-rules/'},\n",
       "    {'url': 'https://www.bartleby.com/essay/Hip-Replacement-Care-Plan-FK5PA7RSY9EW'}]}}}"
      ]
     },
     "execution_count": 9,
     "metadata": {},
     "output_type": "execute_result"
    }
   ],
   "source": [
    "client.query.get(\"Sphere\", \"url\").do()"
   ]
  },
  {
   "cell_type": "code",
   "execution_count": null,
   "id": "0b13a971",
   "metadata": {},
   "outputs": [],
   "source": []
  }
 ],
 "metadata": {
  "kernelspec": {
   "display_name": "Python 3 (ipykernel)",
   "language": "python",
   "name": "python3"
  },
  "language_info": {
   "codemirror_mode": {
    "name": "ipython",
    "version": 3
   },
   "file_extension": ".py",
   "mimetype": "text/x-python",
   "name": "python",
   "nbconvert_exporter": "python",
   "pygments_lexer": "ipython3",
   "version": "3.10.8"
  }
 },
 "nbformat": 4,
 "nbformat_minor": 5
}
